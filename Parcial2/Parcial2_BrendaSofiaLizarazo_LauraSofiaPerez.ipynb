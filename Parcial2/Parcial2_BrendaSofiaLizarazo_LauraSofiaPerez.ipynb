{
 "cells": [
  {
   "cell_type": "code",
   "execution_count": 1,
   "id": "1f041583",
   "metadata": {},
   "outputs": [],
   "source": [
    "%matplotlib notebook\n",
    "import numpy as np\n",
    "import matplotlib.pyplot as plt\n",
    "import matplotlib.animation as anim\n",
    "from tqdm import tqdm\n",
    "import sympy as sym \n",
    "import random as rand\n",
    "from sklearn import linear_model\n",
    "from sklearn.metrics import mean_squared_error, r2_score\n",
    "import qexpy as q\n",
    "from scipy import integrate\n",
    "from scipy.integrate import odeint"
   ]
  },
  {
   "cell_type": "markdown",
   "id": "abc5ed2f",
   "metadata": {},
   "source": [
    "# Rungekutta - Bashford"
   ]
  },
  {
   "cell_type": "markdown",
   "id": "9273e95c",
   "metadata": {},
   "source": [
    "### ¡¡PRUEBA!!"
   ]
  },
  {
   "cell_type": "code",
   "execution_count": 17,
   "id": "fb1c5d5b",
   "metadata": {},
   "outputs": [],
   "source": [
    "def System(r,t,mu=1.5):\n",
    "    \n",
    "    x,vx = r\n",
    "    \n",
    "    dxdt = vx\n",
    "    dvxdt = mu*(1-x**2)*vx - x\n",
    "    \n",
    "    return np.array([dxdt,dvxdt])"
   ]
  },
  {
   "cell_type": "code",
   "execution_count": 18,
   "id": "0d1b57da",
   "metadata": {},
   "outputs": [],
   "source": [
    "t = np.linspace(0,20,10000)\n",
    "r0 = [0.5,0.]"
   ]
  },
  {
   "cell_type": "code",
   "execution_count": 19,
   "id": "819c9fe1",
   "metadata": {},
   "outputs": [],
   "source": [
    "sol = odeint(System, r0, t, args=(1.3,))"
   ]
  },
  {
   "cell_type": "code",
   "execution_count": 24,
   "id": "fec3a494",
   "metadata": {},
   "outputs": [],
   "source": [
    "def IntegratorAdams(f,r0,t,mu):\n",
    "    \n",
    "    h = t[1] - t[0]\n",
    "    \n",
    "    x = np.zeros_like(t)\n",
    "    vx = np.zeros_like(t)\n",
    "    \n",
    "    x[0] = r0[0]\n",
    "    vx[0] = r0[1]\n",
    "  \n",
    "    K11 = np.zeros(2)\n",
    "    K12 = np.zeros(2)\n",
    "    K13 = np.zeros(2)\n",
    "    K14 = np.zeros(2)\n",
    "    \n",
    "    # Euler\n",
    "    x[1] = x[0] + h*K11[0]\n",
    "    vx[1] = vx[0] + h*K11[1]\n",
    "    \n",
    "    for i in range(1,4):\n",
    "        present = np.array([x[i-1],vx[i-1]])\n",
    "        K11 = f(present,t[i-1],mu)\n",
    "        K12 = f(present+0.5*K11*h,t[i-1]+0.5*h,mu)\n",
    "        K13 = f(present+0.5*K12*h,t[i-1]+0.5*h,mu)\n",
    "        K14 = f(present+K13*h,t[i-1]+h,mu)\n",
    "        x[i] = x[i-1] + h*(K11[0]+2*K12[0]+2*K13[0]+K14[0])/6\n",
    "        vx[i] = vx[i-1] + h*(K11[1]+2*K12[1]+2*K13[1]+K14[1])/6\n",
    "\n",
    "\n",
    "    \n",
    "    \n",
    "    \n",
    "    xc = x.copy()\n",
    "    vxc = vx.copy()\n",
    "    \n",
    "    for i in range(4,len(t)):\n",
    "        \n",
    "        present = np.array([x[i-1],vx[i-1]])\n",
    "        past = np.array([x[i-2],vx[i-2]])\n",
    "        past2=np.array([x[i-3],vx[i-3]])\n",
    "        past3=np.array([x[i-4],vx[i-4]])\n",
    "        K11 = f(present,t[i-1],mu)\n",
    "        K12 = f(past,t[i-2],mu)\n",
    "        K13 = f(past2,t[i-3],mu)\n",
    "        K14 = f(past3,t[i-4],mu)\n",
    "        \n",
    "        x[i] = x[i-1] + h*(55*K11[0] - 59*K12[0] + 37*K13[0] -9*K14[0])/24\n",
    "        vx[i] = vx[i-1] + h*(55*K11[1] - 59*K12[1] + 37*K13[1] -9*K14[1])/24\n",
    "        \n",
    "        xc[i] = x[i]\n",
    "        vxc[i] = vx[i]\n",
    "        \n",
    "        # Futuro\n",
    "        futuro = np.array([x[i],vx[i]])\n",
    "        K15 = f(futuro,t[i],mu)\n",
    "        \n",
    "        xc[i] = xc[i-1] + h*(251*K15[0] + 646*K11[0] -264*K12[0] + 106*K13[0] - 19*K14[0])/720\n",
    "        vxc[i] = vxc[i-1] + h*(251*K15[1] + 646*K11[1] -264*K12[1] + 106*K13[1] - 19*K14[1])/720\n",
    "    \n",
    "\n",
    "    \n",
    "    return x,vx,xc,vxc"
   ]
  },
  {
   "cell_type": "code",
   "execution_count": 25,
   "id": "7c7059be",
   "metadata": {},
   "outputs": [],
   "source": [
    "\n",
    "sol2 = IntegratorAdams(System,r0,t,1.3)"
   ]
  },
  {
   "cell_type": "code",
   "execution_count": 27,
   "id": "9d136cfd",
   "metadata": {},
   "outputs": [
    {
     "data": {
      "text/plain": [
       "<matplotlib.collections.PathCollection at 0x2ae921f74c0>"
      ]
     },
     "execution_count": 27,
     "metadata": {},
     "output_type": "execute_result"
    },
    {
     "data": {
      "image/png": "[encoded data removed]",
      "text/plain": [
       "<Figure size 640x480 with 1 Axes>"
      ]
     },
     "metadata": {},
     "output_type": "display_data"
    }
   ],
   "source": [
    "#plt.scatter(sol2[0],sol2[1],color='r')\n",
    "plt.scatter(sol2[2],sol2[3],marker='.',color='k')\n",
    "plt.scatter(sol[:,0],sol[:,1],marker='.',color=\"red\")"
   ]
  },
  {
   "cell_type": "code",
   "execution_count": null,
   "id": "5a6d1df2",
   "metadata": {},
   "outputs": [],
   "source": []
  },
  {
   "cell_type": "code",
   "execution_count": null,
   "id": "a9e128ba",
   "metadata": {},
   "outputs": [],
   "source": []
  },
  {
   "cell_type": "code",
   "execution_count": null,
   "id": "211b703f",
   "metadata": {},
   "outputs": [],
   "source": []
  },
  {
   "cell_type": "code",
   "execution_count": null,
   "id": "90912f73",
   "metadata": {},
   "outputs": [],
   "source": []
  }
 ],
 "metadata": {
  "kernelspec": {
   "display_name": "Python 3 (ipykernel)",
   "language": "python",
   "name": "python3"
  },
  "language_info": {
   "codemirror_mode": {
    "name": "ipython",
    "version": 3
   },
   "file_extension": ".py",
   "mimetype": "text/x-python",
   "name": "python",
   "nbconvert_exporter": "python",
   "pygments_lexer": "ipython3",
   "version": "3.10.9"
  }
 },
 "nbformat": 4,
 "nbformat_minor": 5
}
