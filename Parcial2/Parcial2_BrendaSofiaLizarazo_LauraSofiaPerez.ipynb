{
 "cells": [
  {
   "cell_type": "code",
   "execution_count": 3,
   "id": "f2b5692a",
   "metadata": {},
   "outputs": [],
   "source": [
    "%matplotlib notebook\n",
    "import numpy as np\n",
    "import matplotlib.pyplot as plt\n",
    "import matplotlib.animation as anim\n",
    "from tqdm import tqdm\n",
    "import sympy as sym \n",
    "import random as rand\n",
    "from sklearn import linear_model\n",
    "from sklearn.metrics import mean_squared_error, r2_score\n",
    "import qexpy as q\n",
    "from scipy import integrate\n",
    "from scipy.integrate import odeint"
   ]
  },
  {
   "cell_type": "markdown",
   "id": "1e62636a",
   "metadata": {},
   "source": [
    "# Rungekutta - Bashford - Moulton"
   ]
  },
  {
   "cell_type": "markdown",
   "id": "306bcff5",
   "metadata": {},
   "source": [
    "### ¡¡PRUEBA!!"
   ]
  },
  {
   "cell_type": "code",
   "execution_count": 14,
   "id": "3b693d69",
   "metadata": {},
   "outputs": [],
   "source": [
    "def System(r,t,mu=1.5):\n",
    "    \n",
    "    x,vx = r\n",
    "    \n",
    "    dxdt = vx\n",
    "    dvxdt = mu*(1-x**2)*vx - x\n",
    "    \n",
    "    return np.array([dxdt,dvxdt])"
   ]
  },
  {
   "cell_type": "code",
   "execution_count": 15,
   "id": "9de742ed",
   "metadata": {},
   "outputs": [],
   "source": [
    "t = np.linspace(0,20,10000)\n",
    "r0 = [0.5,0.]"
   ]
  },
  {
   "cell_type": "code",
   "execution_count": 16,
   "id": "74812439",
   "metadata": {},
   "outputs": [],
   "source": [
    "sol = odeint(System, r0, t, args=(1.3,))"
   ]
  },
  {
   "cell_type": "code",
   "execution_count": 17,
   "id": "2044de3e",
   "metadata": {},
   "outputs": [],
   "source": [
    "def IntegratorAdams(f,r0,t,mu):\n",
    "    \n",
    "    h = t[1] - t[0]\n",
    "    \n",
    "    x = np.zeros_like(t)\n",
    "    #y=np.zeros_like(t)\n",
    "    vx = np.zeros_like(t)\n",
    "    #vy=np.zeros_like(t)\n",
    "    \n",
    "    x[0] = r0[0]\n",
    "    #y[0]=r0[1]\n",
    "    vx[0] = r0[1]#Pasar a 2\n",
    "    #vy[0]=r0[3]\n",
    "\n",
    "    #Dos dimensiones pasar a 4\n",
    "    K11 = np.zeros(2)\n",
    "    K12 = np.zeros(2)\n",
    "    K13 = np.zeros(2)\n",
    "    K14 = np.zeros(2)\n",
    "    \n",
    "    # Euler\n",
    "    x[1] = x[0] + h*K11[0]\n",
    "    #y[1]=y[0]+h*K11[1]\n",
    "    vx[1] = vx[0] + h*K11[1]#Pasar K11 a 2 si 2D\n",
    "    #vy[1] = vy[0] + h*K11[3]\n",
    "    \n",
    "    for i in range(1,4):\n",
    "        present = np.array([x[i-1],vx[i-1]]) #agragar np.array([x[i-1],y[i-1],vx[i-1],vy[i-1]])\n",
    "        K11 = f(present,t[i-1],mu)\n",
    "        K12 = f(present+0.5*K11*h,t[i-1]+0.5*h,mu)\n",
    "        K13 = f(present+0.5*K12*h,t[i-1]+0.5*h,mu)\n",
    "        K14 = f(present+K13*h,t[i-1]+h,mu)\n",
    "        x[i] = x[i-1] + h*(K11[0]+2*K12[0]+2*K13[0]+K14[0])/6\n",
    "        #y[i] = y[i-1] + h*(K11[1]+2*K12[1]+2*K13[1]+K14[1])/6\n",
    "        vx[i] = vx[i-1] + h*(K11[1]+2*K12[1]+2*K13[1]+K14[1])/6 #pasar a K--[2]\n",
    "        #vy[i] = vy[i-1] + h*(K11[3]+2*K12[3]+2*K13[3]+K14[3])/6\n",
    "\n",
    "\n",
    "    \n",
    "    \n",
    "    \n",
    "    xc = x.copy()\n",
    "    #yc=y.copy()\n",
    "    vxc = vx.copy()\n",
    "    #vyc = vy.copy()\n",
    "    \n",
    "    for i in range(4,len(t)):\n",
    "        \n",
    "        present = np.array([x[i-1],vx[i-1]]) #np.array([x[i-1],y[i-1],vx[i-1],vy[i-1]])\n",
    "        past = np.array([x[i-2],vx[i-2]])#np.array([x[i-2],y[i-2],vx[i-2],vy[i-2]])\n",
    "        past2=np.array([x[i-3],vx[i-3]]) #np.array([x[i-3],y[i-3],vx[i-3],vy[i-3]])\n",
    "        past3=np.array([x[i-4],vx[i-4]]) #np.array([x[i-4],y[i-4],vx[i-4],vy[i-4]])\n",
    "        K11 = f(present,t[i-1],mu)\n",
    "        K12 = f(past,t[i-2],mu)\n",
    "        K13 = f(past2,t[i-3],mu)\n",
    "        K14 = f(past3,t[i-4],mu)\n",
    "        \n",
    "        x[i] = x[i-1] + h*(55*K11[0] - 59*K12[0] + 37*K13[0] -9*K14[0])/24\n",
    "        #y[i] = y[i-1] + h*(55*K11[1] - 59*K12[1] + 37*K13[1] -9*K14[1])/24\n",
    "\n",
    "        vx[i] = vx[i-1] + h*(55*K11[1] - 59*K12[1] + 37*K13[1] -9*K14[1])/24 #Cambiar a2\n",
    "        #vy[i] = vy[i-1] + h*(55*K11[3] - 59*K12[3] + 37*K13[3] -9*K14[3])/24 \n",
    "        \n",
    "\n",
    "        \n",
    "        xc[i] = x[i]\n",
    "        #yc[i] = y[i]\n",
    "        \n",
    "        vxc[i] = vx[i]\n",
    "        #vyc[i] = vy[i]\n",
    "        \n",
    "        # Futuro\n",
    "        futuro = np.array([x[i],vx[i]]) #np.array([x[i],y[i],vx[i],vy[i]])\n",
    "        K15 = f(futuro,t[i],mu)\n",
    "        \n",
    "        xc[i] = xc[i-1] + h*(251*K15[0] + 646*K11[0] -264*K12[0] + 106*K13[0] - 19*K14[0])/720\n",
    "        #yc[i] = yc[i-1] + h*(251*K15[1] + 646*K11[1] -264*K12[1] + 106*K13[1] - 19*K14[1])/720\n",
    "        vxc[i] = vxc[i-1] + h*(251*K15[1] + 646*K11[1] -264*K12[1] + 106*K13[1] - 19*K14[1])/720 #Pasar a 2\n",
    "        #vyc[i] = vyc[i-1] + h*(251*K15[3] + 646*K11[3] -264*K12[3] + 106*K13[3] - 19*K14[3])/720\n",
    "    \n",
    "\n",
    "    \n",
    "    return x,vx,xc,vxc #x,y,vx,vy,xc,yc,vxc,vyc"
   ]
  },
  {
   "cell_type": "code",
   "execution_count": 18,
   "id": "581edc05",
   "metadata": {},
   "outputs": [],
   "source": [
    "\n",
    "sol2 = IntegratorAdams(System,r0,t,1.3)"
   ]
  },
  {
   "cell_type": "code",
   "execution_count": 21,
   "id": "95911d48",
   "metadata": {},
   "outputs": [
    {
     "data": {
      "text/plain": [
       "<matplotlib.collections.PathCollection at 0x1efdc08b940>"
      ]
     },
     "execution_count": 21,
     "metadata": {},
     "output_type": "execute_result"
    },
    {
     "data": {
      "image/png": "[encoded data removed]",
      "text/plain": [
       "<Figure size 640x480 with 1 Axes>"
      ]
     },
     "metadata": {},
     "output_type": "display_data"
    }
   ],
   "source": [
    "#plt.scatter(sol2[0],sol2[1],color='r')\n",
    "plt.scatter(sol2[2],sol2[3],marker='.',color='k')\n",
    "plt.scatter(sol[:,0],sol[:,1],marker='.',color=\"red\")"
   ]
  },
  {
   "cell_type": "code",
   "execution_count": null,
   "id": "3942cca1",
   "metadata": {},
   "outputs": [],
   "source": []
  },
  {
   "cell_type": "code",
   "execution_count": null,
   "id": "62204e2e",
   "metadata": {},
   "outputs": [],
   "source": []
  },
  {
   "cell_type": "code",
   "execution_count": null,
   "id": "16a1266f",
   "metadata": {},
   "outputs": [],
   "source": []
  },
  {
   "cell_type": "markdown",
   "id": "33ab71e5",
   "metadata": {},
   "source": [
    "# Adaptativo Vectorizado"
   ]
  },
  {
   "cell_type": "code",
   "execution_count": 6,
   "id": "b70fb473",
   "metadata": {},
   "outputs": [],
   "source": [
    "def System(r,t,mu=1.3):\n",
    "    \n",
    "    x,vx = r\n",
    "    \n",
    "    dxdt = vx\n",
    "    dvxdt = mu*(1-x**2)*vx - x\n",
    "    \n",
    "    return np.array([dxdt,dvxdt])"
   ]
  },
  {
   "cell_type": "code",
   "execution_count": 7,
   "id": "37fa3770",
   "metadata": {},
   "outputs": [],
   "source": [
    "\n",
    "t = np.linspace(0,20,100)\n",
    "r0 = np.array([0.5,0.])\n",
    "\n",
    "sol = odeint(System, r0, t, args=(1.3,))\n"
   ]
  },
  {
   "cell_type": "code",
   "execution_count": 8,
   "id": "92ab3aa0",
   "metadata": {},
   "outputs": [
    {
     "data": {
      "text/plain": [
       "<matplotlib.collections.PathCollection at 0x1efd6a92110>"
      ]
     },
     "execution_count": 8,
     "metadata": {},
     "output_type": "execute_result"
    },
    {
     "data": {
      "image/png": "[encoded data removed]",
      "text/plain": [
       "<Figure size 640x480 with 1 Axes>"
      ]
     },
     "metadata": {},
     "output_type": "display_data"
    }
   ],
   "source": [
    "plt.scatter(sol[:,0],sol[:,1],marker='.')"
   ]
  },
  {
   "cell_type": "code",
   "execution_count": 9,
   "id": "4e40814e",
   "metadata": {},
   "outputs": [],
   "source": [
    "def Increment(f,r,t,h):\n",
    "    \n",
    "    state1 = np.array([r[0],r[1]])\n",
    "    K1 = f(state1,t)\n",
    "    \n",
    "    state2 = np.array([r[0]+0.5*h*K1[0],r[1]+0.5*h*K1[1]])\n",
    "    K2 = f(state2,t+0.5*h)\n",
    "    \n",
    "    state3 = np.array([r[0]+0.5*h*K2[0],r[1]+0.5*h*K2[1]])\n",
    "    K3 = f(state3,t+0.5*h)\n",
    "    \n",
    "    state4 = np.array([r[0]+h*K3[0],r[1]+h*K3[1]])\n",
    "    K4 = f(state4, t+h)\n",
    "    \n",
    "    Deltaf = h*(K1+2*K2+2*K3+K4)/6\n",
    "    \n",
    "    return r+Deltaf"
   ]
  },
  {
   "cell_type": "code",
   "execution_count": 10,
   "id": "3087bf8c",
   "metadata": {},
   "outputs": [],
   "source": [
    "def CheckStep(Delta1,Delta2,Delta3,h,minimo=1e-2,maximo=1e-1):\n",
    "    \n",
    "    tolerancia = 0.001\n",
    "    \n",
    "    Delta1 = np.abs(Delta1)\n",
    "    Delta2 = np.abs(Delta2)\n",
    "    Delta3 = np.abs(Delta3)\n",
    "    \n",
    "    if Delta1 < tolerancia:\n",
    "        h = minimo\n",
    "        dx = Delta1\n",
    "        \n",
    "    else:\n",
    "        \n",
    "        if np.abs((Delta1 - Delta2))/Delta1 > maximo:\n",
    "            h = 0.5*h\n",
    "            dx = Delta2\n",
    "        \n",
    "        elif np.abs((Delta1-Delta3))/Delta1 < minimo:\n",
    "            h = 2*h\n",
    "            dx = Delta3\n",
    "        \n",
    "        else:\n",
    "            dx = Delta1\n",
    "            \n",
    "    return dx,h"
   ]
  },
  {
   "cell_type": "code",
   "execution_count": 11,
   "id": "ac56d995",
   "metadata": {},
   "outputs": [],
   "source": [
    "def Adaptativo(f,x0,t):\n",
    "    \n",
    "    h = t[1] - t[0]\n",
    "    \n",
    "    tf = t[-1]\n",
    "    t = t[0]\n",
    "    \n",
    "    r = r0\n",
    "    \n",
    "    Time = np.array([t])\n",
    "    Vector = r\n",
    "    \n",
    "    Steps = np.array([h])\n",
    "    \n",
    "    while t < tf:\n",
    "        \n",
    "        Delta1 = Increment(f,r,t,h)\n",
    "        Delta2 = Increment(f,r,t,0.5*h)\n",
    "        Delta3 = Increment(f,r,t,2*h)\n",
    "    \n",
    "        Deltas = Delta1.copy()\n",
    "        ht = Delta1.copy()\n",
    "        \n",
    "        for i in range(Delta1.shape[0]):\n",
    "            Deltas[i],ht[i] = CheckStep(Delta1[i],Delta2[i],Delta3[i],h)\n",
    "    \n",
    "    \n",
    "        h = np.mean(ht)\n",
    "        t += h\n",
    "        \n",
    "        r = Increment(f,r,t,h)\n",
    "        \n",
    "        \n",
    "        Steps = np.append(Steps,h )\n",
    "        Time = np.append(Time,t)\n",
    "        Vector = np.vstack((Vector,r))\n",
    "        \n",
    "    return Time,Vector,Steps\n"
   ]
  },
  {
   "cell_type": "code",
   "execution_count": 12,
   "id": "65482865",
   "metadata": {},
   "outputs": [],
   "source": [
    "t1,x1,h1 = Adaptativo(System,r0,t)"
   ]
  },
  {
   "cell_type": "code",
   "execution_count": 13,
   "id": "514fc76c",
   "metadata": {},
   "outputs": [
    {
     "data": {
      "text/plain": [
       "<matplotlib.collections.PathCollection at 0x1efdc01ff70>"
      ]
     },
     "execution_count": 13,
     "metadata": {},
     "output_type": "execute_result"
    },
    {
     "data": {
      "image/png": "[encoded data removed]",
      "text/plain": [
       "<Figure size 640x480 with 1 Axes>"
      ]
     },
     "metadata": {},
     "output_type": "display_data"
    }
   ],
   "source": [
    "plt.scatter(sol[:,0],sol[:,1],marker='.')\n",
    "plt.scatter(x1[:,0],x1[:,1],marker='.')"
   ]
  },
  {
   "cell_type": "code",
   "execution_count": null,
   "id": "a65443bb",
   "metadata": {},
   "outputs": [],
   "source": []
  }
 ],
 "metadata": {
  "kernelspec": {
   "display_name": "Python 3 (ipykernel)",
   "language": "python",
   "name": "python3"
  },
  "language_info": {
   "codemirror_mode": {
    "name": "ipython",
    "version": 3
   },
   "file_extension": ".py",
   "mimetype": "text/x-python",
   "name": "python",
   "nbconvert_exporter": "python",
   "pygments_lexer": "ipython3",
   "version": "3.10.9"
  }
 },
 "nbformat": 4,
 "nbformat_minor": 5
}
