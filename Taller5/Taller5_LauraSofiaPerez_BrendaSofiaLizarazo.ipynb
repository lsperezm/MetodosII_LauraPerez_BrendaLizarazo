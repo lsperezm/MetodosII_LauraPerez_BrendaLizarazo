{
 "cells": [
  {
   "cell_type": "markdown",
   "id": "641c03f1",
   "metadata": {},
   "source": [
    "# Taller 5"
   ]
  },
  {
   "cell_type": "code",
   "execution_count": 1,
   "id": "19a429cb",
   "metadata": {},
   "outputs": [],
   "source": [
    "%matplotlib notebook\n",
    "import numpy as np\n",
    "import matplotlib.pyplot as plt\n",
    "from mpl_toolkits.mplot3d import axes3d\n",
    "from matplotlib import cm\n",
    "import matplotlib as mpl\n",
    "import matplotlib.animation as animation\n",
    "from tqdm import tqdm\n"
   ]
  },
  {
   "cell_type": "markdown",
   "id": "22a17e50",
   "metadata": {},
   "source": [
    "## 1. Ecuación diferencial de Poisson\n",
    "\n"
   ]
  },
  {
   "cell_type": "code",
   "execution_count": 3,
   "id": "e38f3217",
   "metadata": {},
   "outputs": [],
   "source": [
    "h=0.1\n",
    "x=np.arange(0,20,h)\n",
    "y=np.arange(0,20,h)"
   ]
  },
  {
   "cell_type": "code",
   "execution_count": 4,
   "id": "1b87f745",
   "metadata": {},
   "outputs": [],
   "source": [
    "def h1(x,y):\n",
    "    return 10.\n",
    "\n",
    "def h2(x,y):\n",
    "    return 0.\n",
    "\n",
    "def h3 (x,y):\n",
    "    return 0.\n",
    "\n",
    "def h4(x,y):\n",
    "    return 0."
   ]
  },
  {
   "cell_type": "code",
   "execution_count": 5,
   "id": "8f4959e2",
   "metadata": {},
   "outputs": [],
   "source": [
    "def initT():\n",
    "    T = np.zeros((len(x),len(y)))\n",
    "    T[0,:] = h1(x[0],y[0])\n",
    "    T[20,:] = h2(x[0],y[0])\n",
    "    T[:,0] = h3(x[0],y[0])\n",
    "    T[:,20] = h4(x[0],y[0])\n",
    "    return T"
   ]
  },
  {
   "cell_type": "code",
   "execution_count": 6,
   "id": "ac9e4a3f",
   "metadata": {},
   "outputs": [
    {
     "data": {
      "text/plain": [
       "array([[ 0., 10., 10., ..., 10., 10., 10.],\n",
       "       [ 0.,  0.,  0., ...,  0.,  0.,  0.],\n",
       "       [ 0.,  0.,  0., ...,  0.,  0.,  0.],\n",
       "       ...,\n",
       "       [ 0.,  0.,  0., ...,  0.,  0.,  0.],\n",
       "       [ 0.,  0.,  0., ...,  0.,  0.,  0.],\n",
       "       [ 0.,  0.,  0., ...,  0.,  0.,  0.]])"
      ]
     },
     "execution_count": 6,
     "metadata": {},
     "output_type": "execute_result"
    }
   ],
   "source": [
    "initT()"
   ]
  },
  {
   "cell_type": "code",
   "execution_count": null,
   "id": "b2c26450",
   "metadata": {},
   "outputs": [],
   "source": []
  },
  {
   "cell_type": "code",
   "execution_count": null,
   "id": "94ffed78",
   "metadata": {},
   "outputs": [],
   "source": []
  },
  {
   "cell_type": "code",
   "execution_count": null,
   "id": "68223128",
   "metadata": {},
   "outputs": [],
   "source": []
  },
  {
   "cell_type": "code",
   "execution_count": null,
   "id": "a7fc581b",
   "metadata": {},
   "outputs": [],
   "source": []
  },
  {
   "cell_type": "markdown",
   "id": "7a67f8ef",
   "metadata": {},
   "source": [
    "## 2. Conducción de calor 2D\n",
    "\n",
    "### a)"
   ]
  },
  {
   "cell_type": "code",
   "execution_count": 22,
   "id": "4936a195",
   "metadata": {},
   "outputs": [],
   "source": [
    "dx=0.2\n",
    "dy=0.2\n",
    "dt=0.1 #PREGUNTAR\n",
    "x=np.arange(0,1,dx)\n",
    "y=np.arange(0,1,dy)\n",
    "t=np.arange(0,1,dt)\n",
    "alpha=1\n",
    "beta=1"
   ]
  },
  {
   "cell_type": "code",
   "execution_count": 23,
   "id": "2dfb0c84",
   "metadata": {},
   "outputs": [],
   "source": [
    "def Ti(x,y,t):\n",
    "    return np.sin(np.pi*(x+y))"
   ]
  },
  {
   "cell_type": "markdown",
   "id": "4ad9e6a0",
   "metadata": {},
   "source": [
    "### b)"
   ]
  },
  {
   "cell_type": "code",
   "execution_count": 24,
   "id": "4243d148",
   "metadata": {},
   "outputs": [],
   "source": [
    "def h6(x,y,t):\n",
    "    return np.exp(-2*np.pi**2*t)*np.sin(np.pi*y)\n",
    "\n",
    "def h7(x,y,t):\n",
    "    return np.exp(-2*np.pi**2*t)*np.sin(np.pi*x)\n",
    "\n",
    "def h8 (x,y,t):\n",
    "    return np.exp(-2*np.pi**2*t)*np.sin(np.pi*(1+y))\n",
    "\n",
    "def h9(x,y,t):\n",
    "    return np.exp(-2*np.pi**2*t)*np.sin(np.pi*(1+x))\n"
   ]
  },
  {
   "cell_type": "code",
   "execution_count": 25,
   "id": "9b2292e1",
   "metadata": {},
   "outputs": [],
   "source": [
    "def InitT():\n",
    "    \n",
    "    T = np.zeros((len(x),len(y),len(t)))\n",
    "    \n",
    "    T[:,:,0]=Ti(x,y,t)\n",
    "    T[0,:,:] = h6(x,y,t)\n",
    "    T[0,:,:] = h7(x,y,t)\n",
    "    T[:,1,:] = h8(x,y,t)\n",
    "    T[:,1,:] = h9(x,y,t)\n",
    "    \n",
    "    return T"
   ]
  },
  {
   "cell_type": "code",
   "execution_count": 26,
   "id": "e04b514c",
   "metadata": {},
   "outputs": [
    {
     "ename": "ValueError",
     "evalue": "operands could not be broadcast together with shapes (10,) (5,) ",
     "output_type": "error",
     "traceback": [
      "\u001b[1;31m---------------------------------------------------------------------------\u001b[0m",
      "\u001b[1;31mValueError\u001b[0m                                Traceback (most recent call last)",
      "Cell \u001b[1;32mIn[26], line 1\u001b[0m\n\u001b[1;32m----> 1\u001b[0m \u001b[43mInitT\u001b[49m\u001b[43m(\u001b[49m\u001b[43m)\u001b[49m\n",
      "Cell \u001b[1;32mIn[25], line 6\u001b[0m, in \u001b[0;36mInitT\u001b[1;34m()\u001b[0m\n\u001b[0;32m      3\u001b[0m T \u001b[38;5;241m=\u001b[39m np\u001b[38;5;241m.\u001b[39mzeros((\u001b[38;5;28mlen\u001b[39m(x),\u001b[38;5;28mlen\u001b[39m(y),\u001b[38;5;28mlen\u001b[39m(t)))\n\u001b[0;32m      5\u001b[0m T[:,:,\u001b[38;5;241m0\u001b[39m]\u001b[38;5;241m=\u001b[39mTi(x,y,t)\n\u001b[1;32m----> 6\u001b[0m T[\u001b[38;5;241m0\u001b[39m,:,:] \u001b[38;5;241m=\u001b[39m \u001b[43mh6\u001b[49m\u001b[43m(\u001b[49m\u001b[43mx\u001b[49m\u001b[43m,\u001b[49m\u001b[43my\u001b[49m\u001b[43m,\u001b[49m\u001b[43mt\u001b[49m\u001b[43m)\u001b[49m\n\u001b[0;32m      7\u001b[0m T[\u001b[38;5;241m0\u001b[39m,:,:] \u001b[38;5;241m=\u001b[39m h7(x,y,t)\n\u001b[0;32m      8\u001b[0m T[:,\u001b[38;5;241m1\u001b[39m,:] \u001b[38;5;241m=\u001b[39m h8(x,y,t)\n",
      "Cell \u001b[1;32mIn[24], line 2\u001b[0m, in \u001b[0;36mh6\u001b[1;34m(x, y, t)\u001b[0m\n\u001b[0;32m      1\u001b[0m \u001b[38;5;28;01mdef\u001b[39;00m \u001b[38;5;21mh6\u001b[39m(x,y,t):\n\u001b[1;32m----> 2\u001b[0m     \u001b[38;5;28;01mreturn\u001b[39;00m \u001b[43mnp\u001b[49m\u001b[38;5;241;43m.\u001b[39;49m\u001b[43mexp\u001b[49m\u001b[43m(\u001b[49m\u001b[38;5;241;43m-\u001b[39;49m\u001b[38;5;241;43m2\u001b[39;49m\u001b[38;5;241;43m*\u001b[39;49m\u001b[43mnp\u001b[49m\u001b[38;5;241;43m.\u001b[39;49m\u001b[43mpi\u001b[49m\u001b[38;5;241;43m*\u001b[39;49m\u001b[38;5;241;43m*\u001b[39;49m\u001b[38;5;241;43m2\u001b[39;49m\u001b[38;5;241;43m*\u001b[39;49m\u001b[43mt\u001b[49m\u001b[43m)\u001b[49m\u001b[38;5;241;43m*\u001b[39;49m\u001b[43mnp\u001b[49m\u001b[38;5;241;43m.\u001b[39;49m\u001b[43msin\u001b[49m\u001b[43m(\u001b[49m\u001b[43mnp\u001b[49m\u001b[38;5;241;43m.\u001b[39;49m\u001b[43mpi\u001b[49m\u001b[38;5;241;43m*\u001b[39;49m\u001b[43my\u001b[49m\u001b[43m)\u001b[49m\n",
      "\u001b[1;31mValueError\u001b[0m: operands could not be broadcast together with shapes (10,) (5,) "
     ]
    }
   ],
   "source": [
    "InitT()"
   ]
  },
  {
   "cell_type": "code",
   "execution_count": null,
   "id": "778d5773",
   "metadata": {},
   "outputs": [],
   "source": []
  },
  {
   "cell_type": "code",
   "execution_count": null,
   "id": "81743705",
   "metadata": {},
   "outputs": [],
   "source": []
  },
  {
   "cell_type": "code",
   "execution_count": null,
   "id": "aa73a9c5",
   "metadata": {},
   "outputs": [],
   "source": []
  },
  {
   "cell_type": "markdown",
   "id": "f5f3d867",
   "metadata": {},
   "source": [
    "## 3. Ecuación de onda 2D en coordenadas cilíndricas\n"
   ]
  },
  {
   "cell_type": "markdown",
   "id": "c3dfef2b",
   "metadata": {},
   "source": [
    "$u^{l+1}_{ij}=v^2\\Big[u^l_{i+1j}-2u^l_{ij}+u^l_{i-1j} +\\frac{\\Delta \\rho}{\\rho[i]}(u^l_{ij}-u^l_{i-1j})+\\Big( \\frac{\\lambda}{\\rho[i]}\\Big)^2 (u^l_{ij+1}-2u^l_{ij}+u,^l_{ij-1})\\Big]+2u^l_{ij}-u^{l-1}_{ij}$\n",
    "\n",
    "donde $\\lambda:=\\frac{\\Delta \\rho}{\\Delta \\phi}$ y $v:=\\frac{\\alpha \\Delta t}{\\Delta \\rho}$"
   ]
  },
  {
   "cell_type": "markdown",
   "id": "3207e4b4",
   "metadata": {},
   "source": [
    "## 5. Ecuación de Onda 2D"
   ]
  },
  {
   "cell_type": "code",
   "execution_count": 28,
   "id": "62a0407a",
   "metadata": {},
   "outputs": [],
   "source": [
    "v2=2\n",
    "x=np.linspace(0,2,1000)\n",
    "y=np.linspace(0,2,1000)\n",
    "t=np.linspace(0,3,1000)"
   ]
  },
  {
   "cell_type": "code",
   "execution_count": 29,
   "id": "d042fa30",
   "metadata": {},
   "outputs": [],
   "source": [
    "def Ti1(t,x,y):\n",
    "    return np.sin(np.pi*x)*np.sin(np.pi*y)"
   ]
  },
  {
   "cell_type": "code",
   "execution_count": 32,
   "id": "010707e0",
   "metadata": {},
   "outputs": [],
   "source": [
    "def InitT1():\n",
    "    \n",
    "    T = np.zeros((len(t),len(x),len(y)))\n",
    "    T[0,:,:]=Ti1(t,x,y)\n",
    "    \n",
    "    return T"
   ]
  },
  {
   "cell_type": "code",
   "execution_count": 34,
   "id": "b9557c36",
   "metadata": {},
   "outputs": [],
   "source": [
    "#InitT1()"
   ]
  },
  {
   "cell_type": "code",
   "execution_count": null,
   "id": "35c36a68",
   "metadata": {},
   "outputs": [],
   "source": []
  }
 ],
 "metadata": {
  "kernelspec": {
   "display_name": "Python 3 (ipykernel)",
   "language": "python",
   "name": "python3"
  },
  "language_info": {
   "codemirror_mode": {
    "name": "ipython",
    "version": 3
   },
   "file_extension": ".py",
   "mimetype": "text/x-python",
   "name": "python",
   "nbconvert_exporter": "python",
   "pygments_lexer": "ipython3",
   "version": "3.10.9"
  }
 },
 "nbformat": 4,
 "nbformat_minor": 5
}
