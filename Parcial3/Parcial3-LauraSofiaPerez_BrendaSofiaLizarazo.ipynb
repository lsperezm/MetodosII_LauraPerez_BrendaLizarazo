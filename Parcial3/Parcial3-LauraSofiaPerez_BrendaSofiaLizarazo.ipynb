{
 "cells": [
  {
   "cell_type": "markdown",
   "id": "ee955f9a",
   "metadata": {},
   "source": [
    "# Parcial 3"
   ]
  },
  {
   "cell_type": "code",
   "execution_count": 1,
   "id": "27cd6960",
   "metadata": {},
   "outputs": [],
   "source": [
    "%matplotlib notebook\n",
    "import numpy as np\n",
    "import matplotlib.pyplot as plt\n",
    "from mpl_toolkits.mplot3d import axes3d\n",
    "from matplotlib import cm\n",
    "import matplotlib as mpl\n",
    "import matplotlib.animation as animation\n",
    "from tqdm import tqdm\n"
   ]
  },
  {
   "cell_type": "markdown",
   "id": "a31fe242",
   "metadata": {},
   "source": [
    "## 1.\n"
   ]
  },
  {
   "cell_type": "markdown",
   "id": "c4c8afe8",
   "metadata": {},
   "source": [
    "Partiendo de la ecuación de onda unidimensional dada por la siguiente expresión,\n",
    "\n",
    "$$\n",
    "\\frac{\\partial ^2u}{\\partial t^2}=\\alpha^2 \\frac{\\partial^2u}{\\partial x^2}\n",
    "$$\n",
    "\n",
    "se busca llegar a que esta solución es estable para $\\alpha <1$. De este modo, si se realiza la discretización de la ecuación inicial, a partir de los siguientes peradores diferenciales:\n",
    "\n",
    "$$\n",
    "\\frac{f(x_i,t_{l+1})-2f(x_i,t_{l})+f(x_i,t_{l-1})}{(\\Delta x)^2}=\\alpha^2\\frac{f(x_{i+1},t_{l})-2f(x_i,t_{l})+f(x_{i-1},t_{l})}{(\\Delta x)^2}\n",
    "$$\n",
    "\n",
    "de modo que para la función $u(x_i,t_i)$ y despejando para $u^{l+1}_i$, se tendría que,\n",
    "\n",
    "$$\n",
    "\\begin{align*}\n",
    "u^{l+1}_i&=\\alpha^2[u^l_{i+1}-2u_i^{l}+u_{i-1}^l] +2u_i^l-u_i^{l-1}\\\\\n",
    "&=\\alpha^2(u^l_{i+1}+u_{i-1}^l)+2(1-\\alpha^2)u_i^{l}+-u_i^{l-1}\n",
    "\\end{align*}\n",
    "$$\n",
    "\n",
    "donde $\\alpha=\\frac{v\\Delta t}{\\Delta x}$.\n",
    "\n",
    "\n",
    "Usando el hecho de que las componentes de Fourierb varían en el espacio como:\n",
    "$$\n",
    "u^l_{i\\pm 1}=e^{\\pm jk\\Delta x}u[l,i]\n",
    "$$\n",
    "\n",
    "de modo que se llegaría a lo siguientel, al implementar este término en la parte de la discretización que multiplica a $\\alpha^2$.\n",
    "\n",
    "$$\n",
    "\\begin{align*}\n",
    "u^{l+1}_i-2u_i^l+u_i^{l-1}&=[e^{jk\\Delta x}-2+e^{- jk\\Delta x}]u_i^l\\\\\n",
    "&=-4sin^2 \\Big(\\frac{k\\Delta x}{2} \\Big)u_i^l\n",
    "\\end{align*}\n",
    "$$\n",
    "\n",
    "ingresando este término en la discretización, se llega a:\n",
    "\n",
    "$$\n",
    "\\begin{align*}\n",
    "u^{l+1}_i&=\\alpha^2\\Big[-4sin^2 \\Big(\\frac{k\\Delta x}{2} \\Big)u_i^l\\Big] +2u_i^l-u_i^{l-1}\\\\\n",
    "&=\\Big[2-4\\alpha^2sin^2 \\Big(\\frac{k\\Delta x}{2} \\Big)\\Big]u_i^l-u_i^{l-1}\n",
    "\\end{align*}\n",
    "$$\n",
    "\n",
    "dada la condición de estabilidad, se debería cumplir que,\n",
    "\n",
    "$$\n",
    "\\begin{align*}\n",
    "2&>-2+4\\alpha^2sin^2 \\Big(\\frac{k\\Delta x}{2} \\Big)\\\\\n",
    "4&>4\\alpha^2sin^2 \\Big(\\frac{k\\Delta x}{2} \\Big)\\\\\n",
    "1&>\\alpha^2sin^2 \\Big(\\frac{k\\Delta x}{2} \\Big)\n",
    "\\end{align*}\n",
    "$$\n",
    "\n",
    "\n",
    "dado que el término del seno, máximo dará 1 para casos donde los modos de Fourier sean muy grandes, entonces,\n",
    "\n",
    "$$\n",
    "\\alpha^2<1 \\Rightarrow |a|<1\n",
    "$$\n",
    "\n"
   ]
  },
  {
   "cell_type": "markdown",
   "id": "89b7c83d",
   "metadata": {},
   "source": [
    "## 2."
   ]
  },
  {
   "cell_type": "code",
   "execution_count": null,
   "id": "f29aa58d",
   "metadata": {},
   "outputs": [],
   "source": []
  },
  {
   "cell_type": "markdown",
   "id": "411ffff7",
   "metadata": {},
   "source": [
    "## 3."
   ]
  },
  {
   "cell_type": "code",
   "execution_count": null,
   "id": "f257dafe",
   "metadata": {},
   "outputs": [],
   "source": []
  }
 ],
 "metadata": {
  "kernelspec": {
   "display_name": "Python 3 (ipykernel)",
   "language": "python",
   "name": "python3"
  },
  "language_info": {
   "codemirror_mode": {
    "name": "ipython",
    "version": 3
   },
   "file_extension": ".py",
   "mimetype": "text/x-python",
   "name": "python",
   "nbconvert_exporter": "python",
   "pygments_lexer": "ipython3",
   "version": "3.10.9"
  }
 },
 "nbformat": 4,
 "nbformat_minor": 5
}
